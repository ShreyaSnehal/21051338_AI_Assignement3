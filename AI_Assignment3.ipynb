{
  "nbformat": 4,
  "nbformat_minor": 0,
  "metadata": {
    "colab": {
      "provenance": [],
      "authorship_tag": "ABX9TyMX+yLtlt0gEAGrcPXhH8ea",
      "include_colab_link": true
    },
    "kernelspec": {
      "name": "python3",
      "display_name": "Python 3"
    },
    "language_info": {
      "name": "python"
    }
  },
  "cells": [
    {
      "cell_type": "markdown",
      "metadata": {
        "id": "view-in-github",
        "colab_type": "text"
      },
      "source": [
        "<a href=\"https://colab.research.google.com/github/ShreyaSnehal/21051338_AI_Assignement3/blob/main/AI_Assignment3.ipynb\" target=\"_parent\"><img src=\"https://colab.research.google.com/assets/colab-badge.svg\" alt=\"Open In Colab\"/></a>"
      ]
    },
    {
      "cell_type": "code",
      "execution_count": 11,
      "metadata": {
        "colab": {
          "base_uri": "https://localhost:8080/"
        },
        "id": "ydXFohj8Yyu9",
        "outputId": "05426f6c-9bbc-4988-8f19-56b5bfd66934"
      },
      "outputs": [
        {
          "output_type": "stream",
          "name": "stdout",
          "text": [
            "Enter input :000BB00WW0\n",
            "Utility of Player 1: 4\n"
          ]
        }
      ],
      "source": [
        "def utility(board):\n",
        "    black_coins = board.count('B')\n",
        "    return black_coins\n",
        "\n",
        "def terminal_state(board):\n",
        "    return '0' not in board\n",
        "\n",
        "def actions(board, player):\n",
        "    return [i for i in range(len(board)) if board[i] == '0']\n",
        "\n",
        "def result(board, action, player):\n",
        "    new_board = list(board)\n",
        "    new_board[action] = 'B' if player == 1 else 'W'\n",
        "    # Perform coin flipping if necessary\n",
        "    for i in range(action - 1, -1, -1):\n",
        "        if new_board[i] == '0':\n",
        "            break\n",
        "        new_board[i] = 'W' if player == 1 else 'B'\n",
        "    for i in range(action + 1, len(board)):\n",
        "        if new_board[i] == '0':\n",
        "            break\n",
        "        new_board[i] = 'W' if player == 1 else 'B'\n",
        "    return ''.join(new_board)\n",
        "\n",
        "def minimax(board, depth, maximizing_player):\n",
        "    if depth == 0 or terminal_state(board):\n",
        "        return utility(board)\n",
        "\n",
        "    if maximizing_player:\n",
        "        max_utility = float('-inf')\n",
        "        for action in actions(board, 1):\n",
        "            new_board = result(board, action, 1)\n",
        "            max_utility = max(max_utility, minimax(new_board, depth - 1, False))\n",
        "        return max_utility\n",
        "    else:\n",
        "        min_utility = float('inf')\n",
        "        for action in actions(board, 2):\n",
        "            new_board = result(board, action, 2)\n",
        "            min_utility = min(min_utility, minimax(new_board, depth - 1, True))\n",
        "        return min_utility\n",
        "\n",
        "def main():\n",
        "    # Example input board\n",
        "    input_board = input(\"Enter input :\")\n",
        "    max_utility = minimax(input_board, depth=3, maximizing_player=True)\n",
        "    print(\"Utility of Player 1:\", max_utility)\n",
        "\n",
        "if __name__ == \"__main__\":\n",
        "    main()\n"
      ]
    }
  ]
}